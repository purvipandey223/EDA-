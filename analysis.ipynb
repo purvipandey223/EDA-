{
 "cells": [
  {
   "cell_type": "markdown",
   "id": "ad6d1e13-3294-4ab9-b5ef-78b517448f1a",
   "metadata": {},
   "source": [
    "## Data Preparation"
   ]
  },
  {
   "cell_type": "code",
   "execution_count": 1,
   "id": "57cfe941-c1a5-4c55-bd6d-213491618670",
   "metadata": {},
   "outputs": [],
   "source": [
    "import pandas as pd\n",
    "import seaborn as sns\n",
    "import matplotlib.pyplot as plt\n",
    "import numpy as np"
   ]
  },
  {
   "cell_type": "code",
   "execution_count": 2,
   "id": "12719a08-f93c-4b1d-b5bc-3234206252a7",
   "metadata": {},
   "outputs": [
    {
     "data": {
      "text/html": [
       "<div>\n",
       "<style scoped>\n",
       "    .dataframe tbody tr th:only-of-type {\n",
       "        vertical-align: middle;\n",
       "    }\n",
       "\n",
       "    .dataframe tbody tr th {\n",
       "        vertical-align: top;\n",
       "    }\n",
       "\n",
       "    .dataframe thead th {\n",
       "        text-align: right;\n",
       "    }\n",
       "</style>\n",
       "<table border=\"1\" class=\"dataframe\">\n",
       "  <thead>\n",
       "    <tr style=\"text-align: right;\">\n",
       "      <th></th>\n",
       "      <th>jobTitle</th>\n",
       "      <th>gender</th>\n",
       "      <th>age</th>\n",
       "      <th>perfEval</th>\n",
       "      <th>edu</th>\n",
       "      <th>dept</th>\n",
       "      <th>seniority</th>\n",
       "      <th>basePay</th>\n",
       "      <th>bonus</th>\n",
       "    </tr>\n",
       "  </thead>\n",
       "  <tbody>\n",
       "    <tr>\n",
       "      <th>0</th>\n",
       "      <td>Graphic Designer</td>\n",
       "      <td>Female</td>\n",
       "      <td>18</td>\n",
       "      <td>5</td>\n",
       "      <td>College</td>\n",
       "      <td>Operations</td>\n",
       "      <td>2</td>\n",
       "      <td>42363</td>\n",
       "      <td>9938</td>\n",
       "    </tr>\n",
       "    <tr>\n",
       "      <th>1</th>\n",
       "      <td>Software Engineer</td>\n",
       "      <td>Male</td>\n",
       "      <td>21</td>\n",
       "      <td>5</td>\n",
       "      <td>College</td>\n",
       "      <td>Management</td>\n",
       "      <td>5</td>\n",
       "      <td>108476</td>\n",
       "      <td>11128</td>\n",
       "    </tr>\n",
       "    <tr>\n",
       "      <th>2</th>\n",
       "      <td>Warehouse Associate</td>\n",
       "      <td>Female</td>\n",
       "      <td>19</td>\n",
       "      <td>4</td>\n",
       "      <td>PhD</td>\n",
       "      <td>Administration</td>\n",
       "      <td>5</td>\n",
       "      <td>90208</td>\n",
       "      <td>9268</td>\n",
       "    </tr>\n",
       "    <tr>\n",
       "      <th>3</th>\n",
       "      <td>Software Engineer</td>\n",
       "      <td>Male</td>\n",
       "      <td>20</td>\n",
       "      <td>5</td>\n",
       "      <td>Masters</td>\n",
       "      <td>Sales</td>\n",
       "      <td>4</td>\n",
       "      <td>108080</td>\n",
       "      <td>10154</td>\n",
       "    </tr>\n",
       "    <tr>\n",
       "      <th>4</th>\n",
       "      <td>Graphic Designer</td>\n",
       "      <td>Male</td>\n",
       "      <td>26</td>\n",
       "      <td>5</td>\n",
       "      <td>Masters</td>\n",
       "      <td>Engineering</td>\n",
       "      <td>5</td>\n",
       "      <td>99464</td>\n",
       "      <td>9319</td>\n",
       "    </tr>\n",
       "  </tbody>\n",
       "</table>\n",
       "</div>"
      ],
      "text/plain": [
       "              jobTitle  gender  age  perfEval      edu            dept  \\\n",
       "0     Graphic Designer  Female   18         5  College      Operations   \n",
       "1    Software Engineer    Male   21         5  College      Management   \n",
       "2  Warehouse Associate  Female   19         4      PhD  Administration   \n",
       "3    Software Engineer    Male   20         5  Masters           Sales   \n",
       "4     Graphic Designer    Male   26         5  Masters     Engineering   \n",
       "\n",
       "   seniority  basePay  bonus  \n",
       "0          2    42363   9938  \n",
       "1          5   108476  11128  \n",
       "2          5    90208   9268  \n",
       "3          4   108080  10154  \n",
       "4          5    99464   9319  "
      ]
     },
     "execution_count": 2,
     "metadata": {},
     "output_type": "execute_result"
    }
   ],
   "source": [
    "df= pd.read_csv(\"data.csv\")\n",
    "df.head()"
   ]
  },
  {
   "cell_type": "markdown",
   "id": "be7fef8a-0c53-4827-84b7-2e0868694a89",
   "metadata": {},
   "source": [
    "## Task 1:\n",
    "    Measure Central Tendency"
   ]
  },
  {
   "cell_type": "code",
   "execution_count": 4,
   "id": "a8be9b1d-8baa-4142-974d-fa1c838b90d7",
   "metadata": {},
   "outputs": [
    {
     "name": "stdout",
     "output_type": "stream",
     "text": [
      "Performance Evaluation:- \n",
      "Mean:  3.037\n",
      "Median:  3.0\n",
      "Mode:  5\n"
     ]
    }
   ],
   "source": [
    "# Mean\n",
    "perf_evaluation = df['perfEval']\n",
    "mean_pref_eval = perf_evaluation.mean()\n",
    "\n",
    "# Median\n",
    "median_pref_eval = perf_evaluation.median()\n",
    "\n",
    "# Mode\n",
    "mode_pref_eval = perf_evaluation.mode()[0]\n",
    "\n",
    "print(\"Performance Evaluation:- \")\n",
    "print(\"Mean: \", mean_pref_eval)\n",
    "print(\"Median: \", median_pref_eval)\n",
    "print(\"Mode: \", mode_pref_eval)"
   ]
  },
  {
   "cell_type": "markdown",
   "id": "985d9775-211b-418a-95e6-a7a11c1ced65",
   "metadata": {},
   "source": [
    "## Task 2:\n",
    "    Measure of Spread/Dispersion"
   ]
  },
  {
   "cell_type": "code",
   "execution_count": 6,
   "id": "6e1cd289-0008-4b35-bb06-86f419d492e0",
   "metadata": {},
   "outputs": [
    {
     "name": "stdout",
     "output_type": "stream",
     "text": [
      "Age Statistics: \n",
      "Range:  47\n",
      "Variance:  204.138551\n",
      "Standard Deviation:  14.287706288974448\n"
     ]
    }
   ],
   "source": [
    "# Age Statistics\n",
    "age = df['age']\n",
    "\n",
    "#Range\n",
    "age_range = np.max(age) - np.min(age)\n",
    "\n",
    "# Variance\n",
    "age_variance = np.var(age)\n",
    "\n",
    "# Standard Deviation\n",
    "age_std_dev = np.std(age)\n",
    "\n",
    "# Results\n",
    "print(\"Age Statistics: \")\n",
    "print(\"Range: \",age_range)\n",
    "print(\"Variance: \",age_variance)\n",
    "print(\"Standard Deviation: \", age_std_dev)"
   ]
  },
  {
   "cell_type": "markdown",
   "id": "7eb4ae7d-96dd-4c94-b82f-c75954c88783",
   "metadata": {},
   "source": [
    "## Task 3\n",
    "    Probability Mass Function"
   ]
  },
  {
   "cell_type": "code",
   "execution_count": 7,
   "id": "88ef0545-0e14-4d00-b3db-7fdfa49a2da0",
   "metadata": {},
   "outputs": [
    {
     "data": {
      "image/png": "[encoded data removed]",
      "text/plain": [
       "<Figure size 640x480 with 1 Axes>"
      ]
     },
     "metadata": {},
     "output_type": "display_data"
    }
   ],
   "source": [
    "# Frequency of Each Gender\n",
    "gender_counts = df['gender'].value_counts()\n",
    "\n",
    "# Total Observations\n",
    "total_observation = len(df)\n",
    "\n",
    "# Probability of each gender\n",
    "pmf_gender = gender_counts/total_observation\n",
    "\n",
    "# PMF\n",
    "pmf_gender.plot(kind='bar',color=['blue','pink'])\n",
    "plt.title(\"Probability Mass Function (PMF) for Gender: \")\n",
    "plt.xlabel('Gender')\n",
    "plt.ylabel('Probability')\n",
    "plt.xticks(rotation=0)\n",
    "plt.show()"
   ]
  },
  {
   "cell_type": "markdown",
   "id": "b07d4251-e5c6-4ca7-a5b2-337a3dd2e910",
   "metadata": {},
   "source": [
    "## Task 4\n",
    "    Probability Density Function"
   ]
  },
  {
   "cell_type": "code",
   "execution_count": 9,
   "id": "253056a4-0aa8-4f50-8021-6f4c0ccb54ee",
   "metadata": {},
   "outputs": [
    {
     "data": {
      "image/png": "[encoded data removed]",
      "text/plain": [
       "<Figure size 640x480 with 1 Axes>"
      ]
     },
     "metadata": {},
     "output_type": "display_data"
    }
   ],
   "source": [
    "# PDF\n",
    "df['age'].plot(kind=\"density\")\n",
    "plt.title(\"Probability Density Function (PDF) for Age \")\n",
    "plt.xlabel(\"Age\")\n",
    "plt.ylabel('Density')\n",
    "plt.show()"
   ]
  },
  {
   "cell_type": "code",
   "execution_count": null,
   "id": "c00a4432-d4c3-41a8-9702-358dff169751",
   "metadata": {},
   "outputs": [],
   "source": []
  },
  {
   "cell_type": "code",
   "execution_count": null,
   "id": "d4b3287e-f2be-4a2b-a834-7146e1b78d56",
   "metadata": {},
   "outputs": [],
   "source": []
  }
 ],
 "metadata": {
  "kernelspec": {
   "display_name": "Python 3 (ipykernel)",
   "language": "python",
   "name": "python3"
  },
  "language_info": {
   "codemirror_mode": {
    "name": "ipython",
    "version": 3
   },
   "file_extension": ".py",
   "mimetype": "text/x-python",
   "name": "python",
   "nbconvert_exporter": "python",
   "pygments_lexer": "ipython3",
   "version": "3.12.1"
  }
 },
 "nbformat": 4,
 "nbformat_minor": 5
}
